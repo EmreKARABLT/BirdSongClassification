{
 "cells": [
  {
   "cell_type": "code",
   "execution_count": 20,
   "id": "initial_id",
   "metadata": {
    "collapsed": true,
    "ExecuteTime": {
     "end_time": "2024-04-24T20:41:47.640272900Z",
     "start_time": "2024-04-24T20:41:47.630774900Z"
    }
   },
   "outputs": [
    {
     "name": "stdout",
     "output_type": "stream",
     "text": [
      "C:\\Users\\bpk_e\\PycharmProjects\\pythonProject1\n"
     ]
    },
    {
     "data": {
      "text/plain": "file_id                   264\ngenus                      66\nspecies                    85\nenglish_cname              88\nwho_provided_recording     68\ncountry                    18\nlatitude                  195\nlongitute                 198\ntype                       54\nlicense                     4\ndtype: int64"
     },
     "execution_count": 20,
     "metadata": {},
     "output_type": "execute_result"
    }
   ],
   "source": [
    "import numpy as np\n",
    "import pandas as pd\n",
    "from pathlib import Path\n",
    "print(Path.cwd())\n",
    "files = Path.cwd().joinpath(\"data\")\n",
    "songs = files.joinpath(\"songs\")\n",
    "metadata = files/\"birdsong_metadata.csv\"\n",
    "\n",
    "df = pd.read_csv(metadata)\n",
    "df.head(20)\n",
    "\n",
    "df.nunique(0)\n",
    "# df.info()\n",
    "# # Construct file path by concatenating fold and file name\n",
    "# df['relative_path'] = '/fold' + df['fold'].astype(str) + '/' + df['slice_file_name'].astype(str)\n",
    "# \n",
    "# # Take relevant columns\n",
    "# df = df[['relative_path', 'classID']]\n",
    "# df.head()"
   ]
  },
  {
   "cell_type": "code",
   "execution_count": null,
   "outputs": [],
   "source": [],
   "metadata": {
    "collapsed": false
   },
   "id": "db043dbed9fe8be7"
  }
 ],
 "metadata": {
  "kernelspec": {
   "display_name": "Python 3",
   "language": "python",
   "name": "python3"
  },
  "language_info": {
   "codemirror_mode": {
    "name": "ipython",
    "version": 2
   },
   "file_extension": ".py",
   "mimetype": "text/x-python",
   "name": "python",
   "nbconvert_exporter": "python",
   "pygments_lexer": "ipython2",
   "version": "2.7.6"
  }
 },
 "nbformat": 4,
 "nbformat_minor": 5
}
